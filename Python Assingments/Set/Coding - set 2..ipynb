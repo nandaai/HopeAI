{
 "cells": [
  {
   "cell_type": "code",
   "execution_count": 48,
   "id": "aba1475d",
   "metadata": {},
   "outputs": [
    {
     "name": "stdin",
     "output_type": "stream",
     "text": [
      "Enter name:  sriyya nandakumar\n"
     ]
    },
    {
     "name": "stdout",
     "output_type": "stream",
     "text": [
      "ramukadnan ayyirs\n"
     ]
    }
   ],
   "source": [
    "#1.Write a Python program to find the reverse of a string. Expected Output (for input \"hello\"):\n",
    "#olleh\n",
    "\n",
    "string = input(\"Enter name: \")\n",
    "rev_str = string[::-1]\n",
    "print(rev_str)\n",
    "\n"
   ]
  },
  {
   "cell_type": "code",
   "execution_count": 64,
   "id": "5b1ec143",
   "metadata": {},
   "outputs": [
    {
     "name": "stdout",
     "output_type": "stream",
     "text": [
      "0 1 1 2 3 5 8 13 21 34 "
     ]
    }
   ],
   "source": [
    "#2.Write a Python program to generate the Fibonacci sequence up to 10 terms.\n",
    "#Expected Output:\n",
    "#0 1 1 2 3 5 8 13 21 34\n",
    "i=0\n",
    "j=1\n",
    "n=0\n",
    "while n <  10:\n",
    "    a = i+j\n",
    "    print(i, end=\" \")\n",
    "    i=j\n",
    "    j=a\n",
    "    n=n+1\n"
   ]
  },
  {
   "cell_type": "code",
   "execution_count": 82,
   "id": "c656f04a",
   "metadata": {},
   "outputs": [
    {
     "name": "stdout",
     "output_type": "stream",
     "text": [
      "Palindrome\n"
     ]
    }
   ],
   "source": [
    "#3.Write a Python function to check if a given string is a palindrome.\n",
    "#Expected Output (for input \"madam\"):\n",
    "# madam is a palindrome\n",
    "\n",
    "a = \"malayalam\"\n",
    "l = len(a)-1\n",
    "n=len(a)//2\n",
    "\n",
    "for i in range(n):\n",
    "    if a[i] != a[l-i]:\n",
    "        print(\"Not a Palindrome\")\n",
    "       \n",
    "else:\n",
    "    print(\"Palindrome\")\n",
    "    \n"
   ]
  },
  {
   "cell_type": "code",
   "execution_count": 142,
   "id": "cd7b0a78",
   "metadata": {},
   "outputs": [
    {
     "name": "stdout",
     "output_type": "stream",
     "text": [
      "5\n"
     ]
    }
   ],
   "source": [
    "# 4.Write a Python program to count the number of vowels in a given string. \n",
    "# Expected Output (for input \"education\"):\n",
    "#Number of vowels: 5\n",
    "    \n",
    "a = \"education\" \n",
    "v = ['a','e','i','o','u']\n",
    "c=0\n",
    "for ch in v:\n",
    "    if ch in a:\n",
    "        c = c+1\n",
    "                \n",
    "print(c)\n",
    "# This will count just the number of vowels in the string..if a vowel is found twice it will be counted only once. \n",
    "#for example: even if the string has 2 a's it will be counted as one. if you want all the vowels to be counted then below code would do that: \n",
    "\n",
    "#a = \"sriyya nandakumar\" \n",
    "#v = ['a','e','i','o','u']\n",
    "#c=0\n",
    "#for ch in a:\n",
    "#    if ch in v:\n",
    "#       c = c+1\n",
    "#print(c)"
   ]
  },
  {
   "cell_type": "code",
   "execution_count": 224,
   "id": "bdbb9b19",
   "metadata": {},
   "outputs": [
    {
     "name": "stdout",
     "output_type": "stream",
     "text": [
      "[1, 2, 3, 4, 9, 5, 8]\n"
     ]
    }
   ],
   "source": [
    "#5.Write a Python program to remove duplicates from a list.\n",
    "#Expected Output (for input [1, 2, 2, 3, 4, 4, 5]):\n",
    "# [1, 2, 3, 4, 5]\n",
    "\n",
    "list=[1, 2, 2, 3, 4,9, 4, 5,1,5,8,9]\n",
    "new_list=[]\n",
    "for i in list:\n",
    "    if i in new_list:\n",
    "        continue\n",
    "    else:\n",
    "        new_list.append(i)   \n",
    "\n",
    "print(newlist)"
   ]
  },
  {
   "cell_type": "code",
   "execution_count": null,
   "id": "c2ca3796-da15-4768-a883-df804bcef7bc",
   "metadata": {},
   "outputs": [],
   "source": []
  }
 ],
 "metadata": {
  "kernelspec": {
   "display_name": "Python 3 (ipykernel)",
   "language": "python",
   "name": "python3"
  },
  "language_info": {
   "codemirror_mode": {
    "name": "ipython",
    "version": 3
   },
   "file_extension": ".py",
   "mimetype": "text/x-python",
   "name": "python",
   "nbconvert_exporter": "python",
   "pygments_lexer": "ipython3",
   "version": "3.12.7"
  }
 },
 "nbformat": 4,
 "nbformat_minor": 5
}
