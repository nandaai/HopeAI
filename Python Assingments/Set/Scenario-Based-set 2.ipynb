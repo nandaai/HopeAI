{
 "cells": [
  {
   "cell_type": "code",
   "execution_count": 4,
   "id": "45a3d2cd-811d-402f-91a7-afe3565138de",
   "metadata": {},
   "outputs": [
    {
     "name": "stdin",
     "output_type": "stream",
     "text": [
      "Enter Amount:  -1\n"
     ]
    },
    {
     "name": "stdout",
     "output_type": "stream",
     "text": [
      "Negative\n"
     ]
    }
   ],
   "source": [
    "\"\"\"You are developing a banking application that categorizes transactions based on the amount entered.\n",
    " Write logic to determine whether the amount is positive, negative, or zero.\"\"\"\n",
    "\n",
    "amount  = int(input(\"Enter Amount: \"))\n",
    "if amount == 0:\n",
    "    print(\"Zero\")\n",
    "elif amount < 0:\n",
    "    print(\"Negative\")\n",
    "else:\n",
    "    print(\"positive\")"
   ]
  },
  {
   "cell_type": "code",
   "execution_count": 34,
   "id": "d44ad1de-a984-4e24-8a71-9918ac597c78",
   "metadata": {},
   "outputs": [
    {
     "name": "stdin",
     "output_type": "stream",
     "text": [
      "Enter Passcode:  12345\n"
     ]
    },
    {
     "name": "stdout",
     "output_type": "stream",
     "text": [
      "15\n"
     ]
    }
   ],
   "source": [
    "\"\"\"A digital locker requires users to enter a numerical passcode. As part of a security feature, the system checks the sum of the digits of the passcode.\n",
    " Write logic to compute the sum of the digits of a given number.\"\"\"\n",
    "\n",
    "num = input(\"Enter Passcode: \")\n",
    "b=0\n",
    "for i in num:\n",
    "    b += int(i)\n",
    "    \n",
    "print(b)"
   ]
  },
  {
   "cell_type": "code",
   "execution_count": 40,
   "id": "1dff88ca-7f0f-4619-b114-ae53a42fa43d",
   "metadata": {},
   "outputs": [
    {
     "name": "stdin",
     "output_type": "stream",
     "text": [
      "Enter transaction id:  1234\n"
     ]
    },
    {
     "name": "stdout",
     "output_type": "stream",
     "text": [
      "4 3 2 1 "
     ]
    }
   ],
   "source": [
    "\"\"\"A mobile payment app uses a simple checksum validation where reversing a transaction ID helps detect fraud.\n",
    " Write logic to take a number and return its reverse\n",
    "\"\"\"\n",
    "num = input(\"Enter transaction id: \")\n",
    "for i in num[::-1]:\n",
    "    print(i, end=\" \")\n",
    "\n"
   ]
  },
  {
   "cell_type": "code",
   "execution_count": 26,
   "id": "fce0140f-1c9e-4318-9f59-59bfdc8230cb",
   "metadata": {},
   "outputs": [
    {
     "name": "stdin",
     "output_type": "stream",
     "text": [
      "Enter Number:  1\n"
     ]
    },
    {
     "name": "stdout",
     "output_type": "stream",
     "text": [
      "prime\n"
     ]
    }
   ],
   "source": [
    "\"\"\"In a secure login system, certain features are enabled only for users with prime-numbered user IDs.\n",
    " Write logic to check if a given number is prime.\n",
    "\"\"\"\n",
    "num = int(input(\"Enter Number: \"))\n",
    "n=1\n",
    "c=0\n",
    "if num < 2:\n",
    "    print(\"not prime\")\n",
    "else:\n",
    "    while n<=num:\n",
    "        if num%n == 0:\n",
    "            c += 1\n",
    "        n +=1\n",
    "    if c == 2:\n",
    "        print(\"prime\")\n",
    "    else:\n",
    "        print(\"not prime\")\n",
    "\n"
   ]
  },
  {
   "cell_type": "code",
   "execution_count": 10,
   "id": "eba3cbf4-8b51-4616-8ecc-e2d9a4600058",
   "metadata": {},
   "outputs": [
    {
     "name": "stdout",
     "output_type": "stream",
     "text": [
      "1\n"
     ]
    }
   ],
   "source": [
    "print(5%2)"
   ]
  },
  {
   "cell_type": "code",
   "execution_count": null,
   "id": "ae5f432d-a437-4c6f-843c-28d49931a955",
   "metadata": {},
   "outputs": [],
   "source": []
  }
 ],
 "metadata": {
  "kernelspec": {
   "display_name": "Python 3 (ipykernel)",
   "language": "python",
   "name": "python3"
  },
  "language_info": {
   "codemirror_mode": {
    "name": "ipython",
    "version": 3
   },
   "file_extension": ".py",
   "mimetype": "text/x-python",
   "name": "python",
   "nbconvert_exporter": "python",
   "pygments_lexer": "ipython3",
   "version": "3.12.7"
  }
 },
 "nbformat": 4,
 "nbformat_minor": 5
}
