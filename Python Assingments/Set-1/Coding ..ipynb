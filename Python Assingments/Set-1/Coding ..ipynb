{
 "cells": [
  {
   "cell_type": "code",
   "execution_count": 1,
   "id": "5fd5c475",
   "metadata": {},
   "outputs": [
    {
     "name": "stdout",
     "output_type": "stream",
     "text": [
      "1 2 3 4 5 "
     ]
    }
   ],
   "source": [
    "#1.Write a Python program that prints numbers from 1 to 5.\n",
    "#Expected Output:\n",
    "#1 2 3 4 5\n",
    "for i in range(1,6):\n",
    "    print(i, end=\" \")"
   ]
  },
  {
   "cell_type": "code",
   "execution_count": 9,
   "id": "3c8bc472",
   "metadata": {},
   "outputs": [
    {
     "name": "stdout",
     "output_type": "stream",
     "text": [
      "2 4 6 8 10 "
     ]
    }
   ],
   "source": [
    "count = 1\n",
    "num=1\n",
    "while count <= 5:\n",
    "    if num%2==0:\n",
    "        print(num, end=\" \")\n",
    "        count=count+1\n",
    "    num=num+1   \n"
   ]
  },
  {
   "cell_type": "code",
   "execution_count": 21,
   "id": "5e7af211",
   "metadata": {},
   "outputs": [
    {
     "name": "stdout",
     "output_type": "stream",
     "text": [
      "55\n"
     ]
    }
   ],
   "source": [
    "#3.Write a Python program to print the sum of numbers from 1 to 10. \n",
    "#xpected Output:55\n",
    "a= 1\n",
    "for b in range(2,11):\n",
    "    a=a+b\n",
    "      \n",
    "print(a)\n"
   ]
  },
  {
   "cell_type": "code",
   "execution_count": 27,
   "id": "ac09aa1a",
   "metadata": {},
   "outputs": [
    {
     "name": "stdout",
     "output_type": "stream",
     "text": [
      "120\n"
     ]
    }
   ],
   "source": [
    "#4.Write a Python function to find the factorial of 5. Expected Output:\n",
    "#120\n",
    "a= 1\n",
    "for b in range(2,6):\n",
    "    a=a*b\n",
    "      \n",
    "print(a)\n"
   ]
  },
  {
   "cell_type": "code",
   "execution_count": 111,
   "id": "8ab9fc8a",
   "metadata": {},
   "outputs": [
    {
     "name": "stdin",
     "output_type": "stream",
     "text": [
      "Enter a number:  127\n"
     ]
    },
    {
     "name": "stdout",
     "output_type": "stream",
     "text": [
      "prime\n"
     ]
    }
   ],
   "source": [
    "#5.Write a Python program to check if a number is prime. Expected Output (for input 7):\n",
    "#7 is a prime number\n",
    "\n",
    "num = int(input(\"Enter a number: \"))\n",
    "div=0\n",
    "if num ==1:\n",
    "    print(\"not a prime\")\n",
    "else:\n",
    "    for n in range(1,num):\n",
    "        if num%n == 0:\n",
    "            div = div +1\n",
    "    if div >=2:\n",
    "        print(\"not a prime\")\n",
    "    elif div < 2:\n",
    "        print(\"prime\")\n"
   ]
  },
  {
   "cell_type": "code",
   "execution_count": null,
   "id": "25aefe33-f899-4470-8731-dd612c57bd10",
   "metadata": {},
   "outputs": [],
   "source": []
  }
 ],
 "metadata": {
  "kernelspec": {
   "display_name": "Python 3 (ipykernel)",
   "language": "python",
   "name": "python3"
  },
  "language_info": {
   "codemirror_mode": {
    "name": "ipython",
    "version": 3
   },
   "file_extension": ".py",
   "mimetype": "text/x-python",
   "name": "python",
   "nbconvert_exporter": "python",
   "pygments_lexer": "ipython3",
   "version": "3.12.7"
  }
 },
 "nbformat": 4,
 "nbformat_minor": 5
}
