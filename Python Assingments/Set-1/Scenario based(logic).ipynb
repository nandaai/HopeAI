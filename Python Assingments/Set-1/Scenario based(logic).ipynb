{
 "cells": [
  {
   "cell_type": "code",
   "execution_count": 2,
   "id": "f69a246e-c024-4c81-9482-3748ebb427cb",
   "metadata": {},
   "outputs": [
    {
     "name": "stdin",
     "output_type": "stream",
     "text": [
      "Enter Age:  21\n"
     ]
    },
    {
     "name": "stdout",
     "output_type": "stream",
     "text": [
      "Eligible to Vote\n"
     ]
    }
   ],
   "source": [
    "###cenario: A system checks if a user is eligible to vote based on their age.\n",
    "### Write logic to ask the user for their age and determine if they are eligible to vote based on whether they are 18 or older.\n",
    "\n",
    "age = int(input(\"Enter Age: \"))\n",
    "if age >= 18:\n",
    "    print(\"Eligible to Vote\")\n",
    "else:\n",
    "    print(\"Not Eligible to Vote\")"
   ]
  },
  {
   "cell_type": "code",
   "execution_count": 34,
   "id": "c4c5c40f-8164-4438-a426-2596f490ef4c",
   "metadata": {},
   "outputs": [
    {
     "name": "stdout",
     "output_type": "stream",
     "text": [
      "100\n"
     ]
    }
   ],
   "source": [
    "###A program processes a list of numbers and needs to find the largest value.\n",
    "### Write logic to identify and return the largest number from a given list.\n",
    "\n",
    "lis=[70,30,90,50,100]\n",
    "j=1\n",
    "i=0\n",
    "while j < len(lis):\n",
    "    if lis[i] > lis[j]:\n",
    "        j+=1\n",
    "    else:\n",
    "        i=j\n",
    "        j+=1\n",
    "print(lis[i])    \n"
   ]
  },
  {
   "cell_type": "code",
   "execution_count": 16,
   "id": "d0f7d861-1503-49db-82c9-4eb5c77b26db",
   "metadata": {},
   "outputs": [
    {
     "name": "stdin",
     "output_type": "stream",
     "text": [
      "Enter Current Salary:  80000\n"
     ]
    },
    {
     "name": "stdout",
     "output_type": "stream",
     "text": [
      "Bonus amount is:8000\n"
     ]
    }
   ],
   "source": [
    "### A company provides employees with a 10% bonus if their salary exceeds $50,000.\n",
    "### Write logic to determine the bonus amount based on the given salary.\n",
    "\n",
    "sal = int(input(\"Enter Current Salary: \"))\n",
    "if sal > 50000:\n",
    "    bonus = sal*0.1\n",
    "    print(f\"Bonus amount is:{bonus:.0f}\")\n",
    "else:\n",
    "    print(\"Not eligible for bonus\")\n"
   ]
  },
  {
   "cell_type": "code",
   "execution_count": 36,
   "id": "5009386c-a5d1-4c90-8027-63f44f23fbf1",
   "metadata": {},
   "outputs": [
    {
     "name": "stdin",
     "output_type": "stream",
     "text": [
      "Enter name:  sriyya\n"
     ]
    },
    {
     "name": "stdout",
     "output_type": "stream",
     "text": [
      "a\n",
      "y\n",
      "y\n",
      "i\n",
      "r\n",
      "s\n"
     ]
    }
   ],
   "source": [
    "###A text-processing tool reverses a given word or sentence for formatting purposes.\n",
    " #### Write logic to take a word or sentence as input and produce its reversed version.\n",
    "\n",
    "name = input(\"Enter name: \")\n",
    "i = len(name)-1\n",
    "j=0\n",
    "while j < len(name):\n",
    "    print(name[i])\n",
    "    i-=1\n",
    "    j+=1"
   ]
  },
  {
   "cell_type": "code",
   "execution_count": 50,
   "id": "9f666ddb-a3b8-4b15-a2d4-93daa3c1bee3",
   "metadata": {},
   "outputs": [
    {
     "name": "stdin",
     "output_type": "stream",
     "text": [
      "Enter Year:   2020\n"
     ]
    },
    {
     "name": "stdout",
     "output_type": "stream",
     "text": [
      "Divisible by 4 so: leap year\n"
     ]
    }
   ],
   "source": [
    "# A calendar system verifies whether a given year is a leap year based on standard leap year rules.\n",
    "# Write logic to determine whether a given year is a leap year.\n",
    "\n",
    "year = int(input(\"Enter Year:  \"))\n",
    "\n",
    "if year%4 == 0:\n",
    "    if year%100 == 0:\n",
    "        if year%400 == 0:\n",
    "            print(\"Divisible by both 110&400 so : leap year\")\n",
    "        else:\n",
    "            print(\"Only divisible by 100 but not 400 so: NOT a leap year\")\n",
    "    else:\n",
    "        print(\"Divisible by 4 so: leap year\")\n",
    "else:\n",
    "    print(\"Not Divisible by 4 so: NOT leap year\")\n",
    "        \n"
   ]
  },
  {
   "cell_type": "code",
   "execution_count": null,
   "id": "7a4bbfd0-7e32-4005-857b-a360ea1f74b9",
   "metadata": {},
   "outputs": [],
   "source": []
  }
 ],
 "metadata": {
  "kernelspec": {
   "display_name": "Python 3 (ipykernel)",
   "language": "python",
   "name": "python3"
  },
  "language_info": {
   "codemirror_mode": {
    "name": "ipython",
    "version": 3
   },
   "file_extension": ".py",
   "mimetype": "text/x-python",
   "name": "python",
   "nbconvert_exporter": "python",
   "pygments_lexer": "ipython3",
   "version": "3.12.7"
  }
 },
 "nbformat": 4,
 "nbformat_minor": 5
}
