{
 "cells": [
  {
   "cell_type": "code",
   "execution_count": 2,
   "id": "ff47632b-d265-4b41-99cb-e0ecb538fda9",
   "metadata": {},
   "outputs": [
    {
     "name": "stdout",
     "output_type": "stream",
     "text": [
      "Sub-fields in AI are:\n",
      "Machine Learning \n",
      "Neural Networks \n",
      "Vision \n",
      "Natural Language Processing\n"
     ]
    }
   ],
   "source": [
    "#Create Function\n",
    "class SubfiledinAI:\n",
    "    def Subfields():\n",
    "        print( \"Sub-fields in AI are:\\nMachine Learning \\nNeural Networks \\nVision \\nNatural Language Processing\")\n",
    "       \n",
    "SubfiledinAI.Subfields()  "
   ]
  },
  {
   "cell_type": "code",
   "execution_count": 6,
   "id": "89258afe-3ade-46dc-a212-eddab649def9",
   "metadata": {},
   "outputs": [
    {
     "name": "stdin",
     "output_type": "stream",
     "text": [
      "Enter a number:  52452\n"
     ]
    },
    {
     "name": "stdout",
     "output_type": "stream",
     "text": [
      "52452 is Even Number\n"
     ]
    }
   ],
   "source": [
    "# OddEven\n",
    "class OddEven:\n",
    "    def OddEven():\n",
    "        n = int(input(\"Enter a number: \"))\n",
    "        if n%2 == 0:\n",
    "            print( f\"{n} is Even Number\")\n",
    "        else:\n",
    "            print(f\"{n} is Odd Number\")\n",
    "OddEven.OddEven()"
   ]
  },
  {
   "cell_type": "code",
   "execution_count": 8,
   "id": "c6815fe8-3f28-4b07-bb03-e7e5116f1259",
   "metadata": {},
   "outputs": [
    {
     "name": "stdin",
     "output_type": "stream",
     "text": [
      "Your Gender:  MAle\n",
      "Your Age:  18\n"
     ]
    },
    {
     "name": "stdout",
     "output_type": "stream",
     "text": [
      "Not Eligible\n"
     ]
    }
   ],
   "source": [
    "class ElegibilityForMarriage:\n",
    "    def Eligible():\n",
    "        Gen = input(\"Your Gender: \")\n",
    "        Age = int(input(\"Your Age: \"))\n",
    "        if Gen == \"Female\":\n",
    "            if Age < 18:\n",
    "                print(\"Not Eligible\")\n",
    "            else:\n",
    "                print(\"Eligible\")\n",
    "        else:\n",
    "            if Age < 21:\n",
    "                print(\"Not Eligible\")\n",
    "            else:\n",
    "                print(\"Eligible\")\n",
    "        \n",
    "ElegibilityForMarriage.Eligible()\n",
    "    "
   ]
  },
  {
   "cell_type": "code",
   "execution_count": 10,
   "id": "722c7039-faf9-4889-9dc1-04205dd46d78",
   "metadata": {},
   "outputs": [
    {
     "name": "stdin",
     "output_type": "stream",
     "text": [
      "Subject0= 98\n",
      "Subject1= 87\n",
      "Subject2= 95\n",
      "Subject3= 95\n",
      "Subject4= 93\n"
     ]
    },
    {
     "name": "stdout",
     "output_type": "stream",
     "text": [
      "Total :  468\n",
      "Percentage : 93.6\n"
     ]
    }
   ],
   "source": [
    "class FindPercent:\n",
    "    def percentage():\n",
    "        i = 1\n",
    "        total = 0\n",
    "        for i in range(5):\n",
    "            sub = \"Subject\" + str(i)\n",
    "            sub = int(input(sub+ \"=\"))\n",
    "            total = total + sub\n",
    "        per = total/5\n",
    "        print(\"Total : \", total)\n",
    "        print(\"Percentage :\",per)\n",
    "            \n",
    "FindPercent.percentage()"
   ]
  },
  {
   "cell_type": "code",
   "execution_count": 12,
   "id": "728d5bfc-481d-4b98-9964-617f0043a789",
   "metadata": {},
   "outputs": [
    {
     "name": "stdin",
     "output_type": "stream",
     "text": [
      "Height: 32\n",
      "Breadth: 34\n"
     ]
    },
    {
     "name": "stdout",
     "output_type": "stream",
     "text": [
      "Area formula:(Height*Breadth)/2\n",
      "Area of Triange:  544.0\n"
     ]
    },
    {
     "name": "stdin",
     "output_type": "stream",
     "text": [
      "Height1: 2\n",
      "Height2: 4\n",
      "Breadth: 4\n"
     ]
    },
    {
     "name": "stdout",
     "output_type": "stream",
     "text": [
      "Perimeter formula:Height1+Height2+Breadth\n",
      "Permiter of Triangle:  10\n"
     ]
    }
   ],
   "source": [
    "class triangle:\n",
    "    def triangle():\n",
    "        h = int(input(\"Height:\"))\n",
    "        b = int(input(\"Breadth:\"))\n",
    "        print(\"Area formula:(Height*Breadth)/2\")\n",
    "        print(\"Area of Triange: \", h*b/2)\n",
    "        h1 = int(input(\"Height1:\"))\n",
    "        h2 = int(input(\"Height2:\"))\n",
    "        b1 = int(input(\"Breadth:\"))\n",
    "        print(\"Perimeter formula:Height1+Height2+Breadth\")\n",
    "        print(\"Permiter of Triangle: \", h1+h2+b1)\n",
    "\n",
    "triangle.triangle()"
   ]
  },
  {
   "cell_type": "code",
   "execution_count": null,
   "id": "e65a4458-c7d6-45ad-b0e8-718ac6837846",
   "metadata": {},
   "outputs": [],
   "source": []
  }
 ],
 "metadata": {
  "kernelspec": {
   "display_name": "Python 3 (ipykernel)",
   "language": "python",
   "name": "python3"
  },
  "language_info": {
   "codemirror_mode": {
    "name": "ipython",
    "version": 3
   },
   "file_extension": ".py",
   "mimetype": "text/x-python",
   "name": "python",
   "nbconvert_exporter": "python",
   "pygments_lexer": "ipython3",
   "version": "3.12.7"
  }
 },
 "nbformat": 4,
 "nbformat_minor": 5
}
