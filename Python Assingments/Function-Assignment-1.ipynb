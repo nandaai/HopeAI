{
 "cells": [
  {
   "cell_type": "code",
   "execution_count": 28,
   "id": "ff47632b-d265-4b41-99cb-e0ecb538fda9",
   "metadata": {},
   "outputs": [
    {
     "name": "stdout",
     "output_type": "stream",
     "text": [
      "Sub-fields in AI are:\n",
      "Machine Learning \n",
      "Neural Networks \n",
      "Vision \n",
      "Natural Language Processing\n"
     ]
    }
   ],
   "source": [
    "#Create Function\n",
    "\n",
    "def Subfields():\n",
    "    print( \"Sub-fields in AI are:\\nMachine Learning \\nNeural Networks \\nVision \\nNatural Language Processing\")\n",
    "       \n",
    "Subfields()  "
   ]
  },
  {
   "cell_type": "code",
   "execution_count": 32,
   "id": "89258afe-3ade-46dc-a212-eddab649def9",
   "metadata": {},
   "outputs": [
    {
     "name": "stdin",
     "output_type": "stream",
     "text": [
      "Enter a number:  4\n"
     ]
    },
    {
     "name": "stdout",
     "output_type": "stream",
     "text": [
      "4 is Even Number\n"
     ]
    }
   ],
   "source": [
    "# OddEven\n",
    "\n",
    "def OddEven():\n",
    "    n = int(input(\"Enter a number: \"))\n",
    "    if n%2 == 0:\n",
    "        print( f\"{n} is Even Number\")\n",
    "    else:\n",
    "        print(f\"{n} is Odd Number\")\n",
    "OddEven()"
   ]
  },
  {
   "cell_type": "code",
   "execution_count": 41,
   "id": "c6815fe8-3f28-4b07-bb03-e7e5116f1259",
   "metadata": {},
   "outputs": [
    {
     "name": "stdin",
     "output_type": "stream",
     "text": [
      "Your Gender:  Female\n",
      "Your Age:  18\n"
     ]
    },
    {
     "name": "stdout",
     "output_type": "stream",
     "text": [
      "Eligible\n"
     ]
    }
   ],
   "source": [
    "def Eligible():\n",
    "    Gen = input(\"Your Gender: \")\n",
    "    Age = int(input(\"Your Age: \"))\n",
    "    if Gen == \"Female\":\n",
    "        if Age < 18:\n",
    "            print(\"Not Eligible\")\n",
    "        else:\n",
    "            print(\"Eligible\")\n",
    "    else:\n",
    "        if Age < 21:\n",
    "            print(\"Not Eligible\")\n",
    "        else:\n",
    "            print(\"Eligible\")\n",
    "        \n",
    "Eligible()\n",
    "    "
   ]
  },
  {
   "cell_type": "code",
   "execution_count": 63,
   "id": "722c7039-faf9-4889-9dc1-04205dd46d78",
   "metadata": {},
   "outputs": [
    {
     "name": "stdin",
     "output_type": "stream",
     "text": [
      "Subject0= 23\n",
      "Subject1= 45\n",
      "Subject2= 34\n",
      "Subject3= 23\n",
      "Subject4= 23\n"
     ]
    },
    {
     "name": "stdout",
     "output_type": "stream",
     "text": [
      "Total :  148\n",
      "Percentage : 29.6\n"
     ]
    }
   ],
   "source": [
    "def percentage():\n",
    "    i = 1\n",
    "    total = 0\n",
    "    for i in range(5):\n",
    "        sub = \"Subject\" + str(i)\n",
    "        sub = int(input(sub+ \"=\"))\n",
    "        total = total + sub\n",
    "    per = total/5\n",
    "    print(\"Total : \", total)\n",
    "    print(\"Percentage :\",per)\n",
    "            \n",
    "percentage()"
   ]
  },
  {
   "cell_type": "code",
   "execution_count": 71,
   "id": "728d5bfc-481d-4b98-9964-617f0043a789",
   "metadata": {},
   "outputs": [
    {
     "name": "stdin",
     "output_type": "stream",
     "text": [
      "Height: 3\n",
      "Breadth: 4\n"
     ]
    },
    {
     "name": "stdout",
     "output_type": "stream",
     "text": [
      "Area formula:(Height*Breadth)/2\n",
      "Area of Triange:  6.0\n"
     ]
    },
    {
     "name": "stdin",
     "output_type": "stream",
     "text": [
      "Height1: 3\n",
      "Height2: 4\n",
      "Breadth: 45\n"
     ]
    },
    {
     "name": "stdout",
     "output_type": "stream",
     "text": [
      "Perimeter formula:Height1+Height2+Breadth\n",
      "Permiter of Triangle:  52\n"
     ]
    }
   ],
   "source": [
    "def triangle():\n",
    "    h = int(input(\"Height:\"))\n",
    "    b = int(input(\"Breadth:\"))\n",
    "    print(\"Area formula:(Height*Breadth)/2\")\n",
    "    print(\"Area of Triange: \", h*b/2)\n",
    "    h1 = int(input(\"Height1:\"))\n",
    "    h2 = int(input(\"Height2:\"))\n",
    "    b1 = int(input(\"Breadth:\"))\n",
    "    print(\"Perimeter formula:Height1+Height2+Breadth\")\n",
    "    print(\"Permiter of Triangle: \", h1+h2+b1)\n",
    "\n",
    "triangle()"
   ]
  },
  {
   "cell_type": "code",
   "execution_count": null,
   "id": "e65a4458-c7d6-45ad-b0e8-718ac6837846",
   "metadata": {},
   "outputs": [],
   "source": []
  }
 ],
 "metadata": {
  "kernelspec": {
   "display_name": "Python 3 (ipykernel)",
   "language": "python",
   "name": "python3"
  },
  "language_info": {
   "codemirror_mode": {
    "name": "ipython",
    "version": 3
   },
   "file_extension": ".py",
   "mimetype": "text/x-python",
   "name": "python",
   "nbconvert_exporter": "python",
   "pygments_lexer": "ipython3",
   "version": "3.12.7"
  }
 },
 "nbformat": 4,
 "nbformat_minor": 5
}
