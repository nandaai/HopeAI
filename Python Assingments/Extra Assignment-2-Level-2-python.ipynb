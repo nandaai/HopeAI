{
 "cells": [
  {
   "cell_type": "code",
   "execution_count": 2,
   "id": "c085a4e2-2205-4941-bbed-11eebd0278d3",
   "metadata": {},
   "outputs": [
    {
     "name": "stdout",
     "output_type": "stream",
     "text": [
      "0\n",
      "1\n",
      "2\n",
      "3\n",
      "4\n",
      "5\n",
      "6\n",
      "7\n",
      "8\n",
      "9\n",
      "10\n",
      "11\n",
      "12\n",
      "13\n",
      "14\n",
      "15\n",
      "16\n",
      "17\n",
      "18\n",
      "19\n"
     ]
    }
   ],
   "source": [
    "# print 0 to 20 by using range\n",
    "for i in range(20):\n",
    "    print(i)"
   ]
  },
  {
   "cell_type": "code",
   "execution_count": 8,
   "id": "3c335567-d83b-4ec9-9e9a-2d4edc2da982",
   "metadata": {},
   "outputs": [
    {
     "name": "stdout",
     "output_type": "stream",
     "text": [
      "10 11 12 13 14 15 16 17 18 19 "
     ]
    }
   ],
   "source": [
    "# print range 10 to 20\n",
    "for i in range(10,20):\n",
    "    print(i, end=\" \")"
   ]
  },
  {
   "cell_type": "code",
   "execution_count": 14,
   "id": "c736f0df-638d-44ac-ae74-224f75b7027e",
   "metadata": {},
   "outputs": [
    {
     "name": "stdout",
     "output_type": "stream",
     "text": [
      "[10, 20, 30, 40, 50]\n",
      "print number of items in the list:  5\n"
     ]
    }
   ],
   "source": [
    "# Print number of items in the list by using 'len'\n",
    "l = [10,20,30,40,50]\n",
    "print(l)\n",
    "print(\"print number of items in the list: \",len(l))"
   ]
  },
  {
   "cell_type": "code",
   "execution_count": 24,
   "id": "1bb6cc9d-aded-47b7-bfd0-f73181ca5430",
   "metadata": {},
   "outputs": [
    {
     "name": "stdout",
     "output_type": "stream",
     "text": [
      "A\n",
      "r\n",
      "t\n",
      "i\n",
      "f\n",
      "i\n",
      "c\n",
      "i\n",
      "a\n",
      "l\n",
      " \n",
      "I\n",
      "n\n",
      "t\n",
      "e\n",
      "l\n",
      "l\n",
      "i\n",
      "g\n",
      "e\n",
      "n\n",
      "c\n",
      "e\n"
     ]
    }
   ],
   "source": [
    "s = \"Artificial Intelligence\"\n",
    "for i in s:\n",
    "    print(i)"
   ]
  },
  {
   "cell_type": "code",
   "execution_count": 26,
   "id": "efd2b081-da95-4369-9a44-830f5b55c36c",
   "metadata": {},
   "outputs": [
    {
     "name": "stdout",
     "output_type": "stream",
     "text": [
      "(1, 'Welcome', 2, 'Hope')\n"
     ]
    }
   ],
   "source": [
    "t = (1, 'Welcome', 2, 'Hope')\n",
    "print(t)"
   ]
  },
  {
   "cell_type": "code",
   "execution_count": 32,
   "id": "09c81a74-ddf0-467b-b730-ea4feaf8deac",
   "metadata": {},
   "outputs": [
    {
     "name": "stdout",
     "output_type": "stream",
     "text": [
      "((0, 1, 2, 3), ('Python', 'Hope'))\n"
     ]
    }
   ],
   "source": [
    "T1 = (0,1,2,3)\n",
    "T2 =('Python','Hope')\n",
    "T3 = (T1,T2)\n",
    "print(T3)"
   ]
  },
  {
   "cell_type": "code",
   "execution_count": 42,
   "id": "7645d9ab-eb1c-4568-839a-7b1f2359e060",
   "metadata": {},
   "outputs": [
    {
     "name": "stdout",
     "output_type": "stream",
     "text": [
      "19 is odd\n",
      "25 is odd\n",
      "1 is odd\n"
     ]
    }
   ],
   "source": [
    "num = (20, 10, 16, 19, 25, 1, 276, 188)\n",
    "for n in num:\n",
    "    if n % 2 != 0:\n",
    "        print(f\"{n} is odd\")"
   ]
  },
  {
   "cell_type": "code",
   "execution_count": 46,
   "id": "99c396ee-75d1-4c8d-94ad-8f7f42e0c664",
   "metadata": {},
   "outputs": [
    {
     "name": "stdout",
     "output_type": "stream",
     "text": [
      "20 is Even\n",
      "10 is Even\n",
      "16 is Even\n",
      "276 is Even\n",
      "188 is Even\n"
     ]
    }
   ],
   "source": [
    "num = (20, 10, 16, 19, 25, 1, 276, 188)\n",
    "for n in num:\n",
    "    if n % 2 == 0:\n",
    "        print(f\"{n} is Even\")"
   ]
  },
  {
   "cell_type": "code",
   "execution_count": null,
   "id": "41d816cc-5d2b-479b-87dd-8fad40203122",
   "metadata": {},
   "outputs": [],
   "source": []
  }
 ],
 "metadata": {
  "kernelspec": {
   "display_name": "Python 3 (ipykernel)",
   "language": "python",
   "name": "python3"
  },
  "language_info": {
   "codemirror_mode": {
    "name": "ipython",
    "version": 3
   },
   "file_extension": ".py",
   "mimetype": "text/x-python",
   "name": "python",
   "nbconvert_exporter": "python",
   "pygments_lexer": "ipython3",
   "version": "3.12.7"
  }
 },
 "nbformat": 4,
 "nbformat_minor": 5
}
