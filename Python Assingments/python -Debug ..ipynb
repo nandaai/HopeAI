{
 "cells": [
  {
   "cell_type": "code",
   "execution_count": 3,
   "id": "8e02775a",
   "metadata": {},
   "outputs": [
    {
     "name": "stdout",
     "output_type": "stream",
     "text": [
      "0\n",
      "1\n",
      "2\n",
      "3\n",
      "4\n"
     ]
    }
   ],
   "source": [
    "#1.Find the error in the following Python code:\n",
    "\n",
    "for i in range(5):\n",
    "    print(i)\n",
    "    "
   ]
  },
  {
   "cell_type": "code",
   "execution_count": 5,
   "id": "df3cee51",
   "metadata": {},
   "outputs": [
    {
     "name": "stdout",
     "output_type": "stream",
     "text": [
      "15\n"
     ]
    }
   ],
   "source": [
    "#2.What will be the output of this code?\n",
    "\n",
    "a = 10\n",
    "b = 5\n",
    "print(a + b)\n",
    " "
   ]
  },
  {
   "cell_type": "code",
   "execution_count": 7,
   "id": "15c2e7b2",
   "metadata": {},
   "outputs": [
    {
     "data": {
      "text/plain": [
       "3"
      ]
     },
     "execution_count": 7,
     "metadata": {},
     "output_type": "execute_result"
    }
   ],
   "source": [
    "#3.What is the issue in this Python snippet?\n",
    "\n",
    "def add_numbers(a, b):\n",
    "    return a + b\n",
    "\n",
    "add_numbers(1,2)"
   ]
  },
  {
   "cell_type": "code",
   "execution_count": 11,
   "id": "2f8e5efd",
   "metadata": {},
   "outputs": [
    {
     "name": "stdout",
     "output_type": "stream",
     "text": [
      "4\n"
     ]
    }
   ],
   "source": [
    "\n",
    "#4.Identify the bug in the following Python code:\n",
    "\n",
    "numbers = [1, 2, 3, 4]\n",
    "print(numbers[3])\n"
   ]
  },
  {
   "cell_type": "code",
   "execution_count": 13,
   "id": "bc0080c1",
   "metadata": {},
   "outputs": [
    {
     "name": "stdout",
     "output_type": "stream",
     "text": [
      "Hello, World!\n"
     ]
    }
   ],
   "source": [
    "#5.Find the error in the following Python code:\n",
    "print(\"Hello, World!\")"
   ]
  },
  {
   "cell_type": "code",
   "execution_count": 35,
   "id": "5b449ecb",
   "metadata": {},
   "outputs": [
    {
     "name": "stdout",
     "output_type": "stream",
     "text": [
      "5\n"
     ]
    }
   ],
   "source": [
    "#6.Find the error in the following Python code:\n",
    "x = 5  #Division by 0 is not possible\n",
    "print(x)\n"
   ]
  },
  {
   "cell_type": "code",
   "execution_count": 27,
   "id": "79260565",
   "metadata": {},
   "outputs": [
    {
     "name": "stdout",
     "output_type": "stream",
     "text": [
      "Name: Alice , Age: 25\n"
     ]
    }
   ],
   "source": [
    "#7.Find the error in the following Python code:name = \"Alice\"\n",
    "age = 25\n",
    "name = \"Alice\"\n",
    "print(\"Name:\",name,\", Age:\",age)\n"
   ]
  },
  {
   "cell_type": "code",
   "execution_count": 45,
   "id": "3e4b6f3b",
   "metadata": {},
   "outputs": [
    {
     "name": "stdout",
     "output_type": "stream",
     "text": [
      "10\n",
      "9\n",
      "8\n",
      "7\n",
      "6\n",
      "5\n",
      "4\n",
      "3\n",
      "2\n",
      "1\n"
     ]
    }
   ],
   "source": [
    "#8.Find the error\n",
    "for i in range(10, 0, -1): #if the intention is to print in reverse order then start should be higher than stop\n",
    "    print(i)\n"
   ]
  },
  {
   "cell_type": "code",
   "execution_count": 49,
   "id": "95976c4d",
   "metadata": {},
   "outputs": [
    {
     "name": "stdout",
     "output_type": "stream",
     "text": [
      "x is 5\n"
     ]
    }
   ],
   "source": [
    "#9. Find the error in the following Python code:\n",
    "x = 5 # X is declared as 10, it should be 5\n",
    "if x == 5: #it should be \"==\" and not \"=\"\n",
    "    print(\"x is 5\")\n"
   ]
  },
  {
   "cell_type": "code",
   "execution_count": 55,
   "id": "317eca50",
   "metadata": {},
   "outputs": [
    {
     "name": "stdout",
     "output_type": "stream",
     "text": [
      "Hello, sriyya\n"
     ]
    }
   ],
   "source": [
    "#10. Identify the error in the following function definition:\n",
    "\n",
    "def greet(name): # missing colon\n",
    "    print(\"Hello, \" + name)\n",
    "\n",
    "greet(\"sriyya\") # Function must be called\n",
    "\n"
   ]
  },
  {
   "cell_type": "code",
   "execution_count": null,
   "id": "ac1d844e-b5f9-4b10-b01e-3a143ae76f48",
   "metadata": {},
   "outputs": [],
   "source": []
  }
 ],
 "metadata": {
  "kernelspec": {
   "display_name": "Python 3 (ipykernel)",
   "language": "python",
   "name": "python3"
  },
  "language_info": {
   "codemirror_mode": {
    "name": "ipython",
    "version": 3
   },
   "file_extension": ".py",
   "mimetype": "text/x-python",
   "name": "python",
   "nbconvert_exporter": "python",
   "pygments_lexer": "ipython3",
   "version": "3.12.7"
  }
 },
 "nbformat": 4,
 "nbformat_minor": 5
}
